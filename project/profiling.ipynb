{
 "cells": [
  {
   "cell_type": "code",
   "execution_count": 1,
   "metadata": {},
   "outputs": [],
   "source": [
    "import numpy as np\n",
    "np.random.seed(1)\n",
    "import pandas as pd\n",
    "import matplotlib.pyplot as plt\n",
    "import pandas_profiling\n",
    "from numpy import nan as NA"
   ]
  },
  {
   "cell_type": "code",
   "execution_count": 4,
   "metadata": {},
   "outputs": [],
   "source": [
    "df = pd.read_csv(\"data/data2.csv\", encoding = \"ISO-8859-1\")"
   ]
  },
  {
   "cell_type": "code",
   "execution_count": 5,
   "metadata": {},
   "outputs": [],
   "source": [
    "df_profile = df.profile_report(title=\"Initial Profile Report\")\n",
    "df_profile.to_file(output_file=\"pandas_profiling_reports/initial_profile_report.html\")"
   ]
  },
  {
   "cell_type": "code",
   "execution_count": 3,
   "metadata": {},
   "outputs": [],
   "source": [
    "df2 = pd.read_csv(\"data/data_pruned.csv\", encoding = \"ISO-8859-1\")"
   ]
  },
  {
   "cell_type": "code",
   "execution_count": 4,
   "metadata": {},
   "outputs": [],
   "source": [
    "df2_profile = df2.profile_report(title=\"Profile Report 2\")\n",
    "df2_profile.to_file(output_file=\"pandas_profiling_reports/profile_report2.html\")"
   ]
  },
  {
   "cell_type": "code",
   "execution_count": 11,
   "metadata": {},
   "outputs": [],
   "source": [
    "df_main = pd.read_csv(\"data/df_main.csv\", encoding = \"ISO-8859-1\")\n",
    "#df_nonmain = pd.read_csv(\"data/df_nonmain.csv\", encoding = \"ISO-8859-1\")"
   ]
  },
  {
   "cell_type": "code",
   "execution_count": 12,
   "metadata": {},
   "outputs": [],
   "source": [
    "df_main_profile = df_main.profile_report(title=\"Profile Report Main\")\n",
    "df_main_profile.to_file(output_file=\"pandas_profiling_reports/profile_report_main.html\")\n",
    "#df_nonmain_profile = df_nonmain.profile_report(title=\"Profile Report Non-Main\")\n",
    "#df_nonmain_profile.to_file(output_file=\"pandas_profiling_reports/profile_report_nonmain.html\")"
   ]
  },
  {
   "cell_type": "code",
   "execution_count": 2,
   "metadata": {},
   "outputs": [],
   "source": [
    "df_final = pd.read_csv(\"data/df_final.csv\", encoding = \"ISO-8859-1\")"
   ]
  },
  {
   "cell_type": "code",
   "execution_count": 3,
   "metadata": {},
   "outputs": [],
   "source": [
    "df_final_profile = df_final.profile_report(title=\"Profile Report Final\")\n",
    "df_final_profile.to_file(output_file=\"pandas_profiling_reports/profile_report_final.html\")"
   ]
  }
 ],
 "metadata": {
  "kernelspec": {
   "display_name": "Python 3",
   "language": "python",
   "name": "python3"
  },
  "language_info": {
   "codemirror_mode": {
    "name": "ipython",
    "version": 3
   },
   "file_extension": ".py",
   "mimetype": "text/x-python",
   "name": "python",
   "nbconvert_exporter": "python",
   "pygments_lexer": "ipython3",
   "version": "3.6.9"
  }
 },
 "nbformat": 4,
 "nbformat_minor": 2
}
